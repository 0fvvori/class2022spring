{
  "nbformat": 4,
  "nbformat_minor": 0,
  "metadata": {
    "colab": {
      "name": "20220316.ipynb",
      "provenance": [],
      "authorship_tag": "ABX9TyO3C19WAjYwQ3K0fIVkR6Wj",
      "include_colab_link": true
    },
    "kernelspec": {
      "name": "python3",
      "display_name": "Python 3"
    },
    "language_info": {
      "name": "python"
    }
  },
  "cells": [
    {
      "cell_type": "markdown",
      "metadata": {
        "id": "view-in-github",
        "colab_type": "text"
      },
      "source": [
        "<a href=\"https://colab.research.google.com/github/0fvvori/class2022spring/blob/main/20220316.ipynb\" target=\"_parent\"><img src=\"https://colab.research.google.com/assets/colab-badge.svg\" alt=\"Open In Colab\"/></a>"
      ]
    },
    {
      "cell_type": "markdown",
      "source": [
        "#변수(variables)\n",
        "숫자\n",
        "문자\n",
        "리스트\n",
        "튜플\n",
        "딕셔너리\n",
        "\n",
        "인덱싱"
      ],
      "metadata": {
        "id": "Zx_D7UpiNq63"
      }
    },
    {
      "cell_type": "code",
      "execution_count": null,
      "metadata": {
        "id": "8636ftdGJRdW"
      },
      "outputs": [],
      "source": [
        "a=1\n",
        "b='python'\n",
        "c=[1,2,3,4]\n",
        "d=(5,6,7,8)\n",
        "e={'a'='apple, 'b'='orange', 'c'=2014}, e['b']='orange'"
      ]
    },
    {
      "cell_type": "markdown",
      "source": [
        "문자열은 ''부호를 사용하여 표시 (\"\"도 가능)\n",
        "\n",
        "리스트와 튜플의 차이: 튜플은 리스트와 달리 고정되어 있어 안의 값을 바꿀 수 없음\n",
        "\n",
        "딕셔너리는 key:value로 이루어져 있으며, 딕셔너리 안의 값들은 순서가 없음"
      ],
      "metadata": {
        "id": "nOPly1Ftlij1"
      }
    },
    {
      "cell_type": "code",
      "source": [
        "a=[1,2,3,4]\n",
        "\n",
        "a[0]=1\n",
        "a[1,3]=[2,3]\n",
        "a[1:]=[2,3,4]\n",
        "a[1:-1]=[2,3,4]\n",
        "a[ : ]=[1,2,3,4]\n",
        "a[ :3]=[1,2,3]"
      ],
      "metadata": {
        "id": "TiwAaqDHmHKV"
      },
      "execution_count": null,
      "outputs": []
    },
    {
      "cell_type": "code",
      "source": [
        "b=[1,'a', [3.'4']]\n",
        "b[2][0]=3\n",
        "b[2][1]='4'"
      ],
      "metadata": {
        "colab": {
          "base_uri": "https://localhost:8080/",
          "height": 136
        },
        "id": "Y8eyG96pqZju",
        "outputId": "822b2aee-a676-4acd-be11-b4d7f2a457fd"
      },
      "execution_count": 6,
      "outputs": [
        {
          "output_type": "error",
          "ename": "SyntaxError",
          "evalue": "ignored",
          "traceback": [
            "\u001b[0;36m  File \u001b[0;32m\"<ipython-input-6-27cc96e4cd22>\"\u001b[0;36m, line \u001b[0;32m1\u001b[0m\n\u001b[0;31m    b=[1,'a', [3.'4']]\u001b[0m\n\u001b[0m                   ^\u001b[0m\n\u001b[0;31mSyntaxError\u001b[0m\u001b[0;31m:\u001b[0m invalid syntax\n"
          ]
        }
      ]
    },
    {
      "cell_type": "markdown",
      "source": [
        "인덱싱은 순서에 맞는 값을 인출하는 것 \n",
        "\n",
        "순서는 0부터 시작 ex)0=첫번째 값\n",
        "\n",
        "a[1:3]과 같은 인덱싱은 1번째부터(포함) - 3번째 전(미만)까지의 범위를 의미함\n",
        "\n",
        "a[:]의 경우 a안의 모든 값을 인출함\n",
        "\n",
        "인덱싱 부호 값이 마이너스(-)면 뒤에서부터 순서를 셈 ex) a[-1]=뒤에서 첫번째 값\n",
        "\n",
        "*스트링과 리스트는 인덱싱 방식이 같음!\n",
        "\n"
      ],
      "metadata": {
        "id": "kSTxo8wyqtjx"
      }
    },
    {
      "cell_type": "markdown",
      "source": [
        "#함수(Function)\n",
        "\n",
        "def add(a,b):\n",
        "  return a+b\n",
        "\n",
        "def=함수 정의\n",
        "add=함수명\n",
        "a,b=입력변수\n",
        "return=출력\n",
        "a=b = 출력변수\n"
      ],
      "metadata": {
        "id": "vxM6Z0NfrtWJ"
      }
    },
    {
      "cell_type": "code",
      "source": [
        "def add(a,b):\n",
        "    return a+b\n",
        "\n",
        "def substract(a,b):\n",
        "    return a-b\n",
        "\n",
        "def multiply(a,b):\n",
        "    return a*b\n",
        "\n",
        "def divide(a,b):\n",
        "   return a/b"
      ],
      "metadata": {
        "id": "hv6i0vMlsWZa"
      },
      "execution_count": 1,
      "outputs": []
    },
    {
      "cell_type": "code",
      "source": [
        "c=add(1,2); print(c)\n",
        "c=substract(1,2); print(c)\n",
        "c=multiply(1,2); print(c)\n",
        "c=divide(1,2); print(c)"
      ],
      "metadata": {
        "id": "bV-w0mfutKqP"
      },
      "execution_count": null,
      "outputs": []
    },
    {
      "cell_type": "markdown",
      "source": [
        "#문법(Syntax)\n",
        "반복 for\n",
        "조건 if"
      ],
      "metadata": {
        "id": "DMWBt32lt-oL"
      }
    },
    {
      "cell_type": "code",
      "source": [
        "a=[1,2,3,4]\n",
        "for i in a:\n",
        "    print(i)"
      ],
      "metadata": {
        "id": "Zrouj7z2uiX9"
      },
      "execution_count": null,
      "outputs": []
    },
    {
      "cell_type": "markdown",
      "source": [
        "i가 a에 속하면 i를 계속 출력(for-roop)\n",
        "출력 앞에 띄어쓰기 필수"
      ],
      "metadata": {
        "id": "BFpLkHzMu-zB"
      }
    },
    {
      "cell_type": "code",
      "source": [
        "a=['red', 'green', 'blue', 'purple']\n",
        "for i in range(len(a)):\n",
        "    print(a[i])"
      ],
      "metadata": {
        "colab": {
          "base_uri": "https://localhost:8080/"
        },
        "id": "FBsEQ80KvZ6d",
        "outputId": "022c6b24-8a79-48b4-fdd1-f9b8899350d8"
      },
      "execution_count": 7,
      "outputs": [
        {
          "output_type": "stream",
          "name": "stdout",
          "text": [
            "red\n",
            "green\n",
            "blue\n",
            "purple\n"
          ]
        }
      ]
    },
    {
      "cell_type": "markdown",
      "source": [
        "len(a)=4 a의 길이\n",
        "\n",
        "range(4)=[0,1,2,3] 0번째부터 4번째 전까지\n",
        "\n"
      ],
      "metadata": {
        "id": "38-PLl1UvpTL"
      }
    },
    {
      "cell_type": "code",
      "source": [
        "a=0\n",
        "if a==0:\n",
        "  print(a)\n",
        "else:\n",
        "  print(a+1)"
      ],
      "metadata": {
        "id": "nJ5uMjLawSUo"
      },
      "execution_count": null,
      "outputs": []
    },
    {
      "cell_type": "markdown",
      "source": [
        "if 조건문 a==0 <- a가 0\n",
        "else = if가 아니면\n",
        "a=0은 a가 0이라는게 아니라 0을 a에 '할당'"
      ],
      "metadata": {
        "id": "54YsgfqWwgYk"
      }
    },
    {
      "cell_type": "code",
      "source": [
        "for i in range(1,3):\n",
        "  for j in range(3,5):\n",
        "    print(i*j)"
      ],
      "metadata": {
        "id": "5zoI1c1zxSsZ"
      },
      "execution_count": null,
      "outputs": []
    },
    {
      "cell_type": "markdown",
      "source": [
        "두번째 for문이 첫번째 for문에 종속됨\n"
      ],
      "metadata": {
        "id": "7q_b8N3_xjCX"
      }
    },
    {
      "cell_type": "code",
      "source": [
        "for i in range(1,3):\n",
        "  for j in range(3,5):\n",
        "    if j>=4:\n",
        "      print(i*j)"
      ],
      "metadata": {
        "id": "r6yPJMd0x4CP"
      },
      "execution_count": null,
      "outputs": []
    },
    {
      "cell_type": "code",
      "source": [
        "a=[1,2,3,4]\n",
        "b=[i for i in a if i>=2]"
      ],
      "metadata": {
        "id": "AY3tYXCwyGuD"
      },
      "execution_count": null,
      "outputs": []
    },
    {
      "cell_type": "code",
      "source": [
        "a=['red', 'green', 'blue', 'purple']\n",
        "b=[i for i in a if len(i)>=4]"
      ],
      "metadata": {
        "id": "Lex12v7RyRs8"
      },
      "execution_count": null,
      "outputs": []
    },
    {
      "cell_type": "code",
      "source": [
        "a=['red', 'green', 'blue', 'purple']\n",
        "b=[1,2,3,4]\n",
        "c={a[:]:b[:] for i in range(4)}"
      ],
      "metadata": {
        "id": "aaL_R5ABymJ8"
      },
      "execution_count": null,
      "outputs": []
    },
    {
      "cell_type": "markdown",
      "source": [
        "#packages\n",
        "import해서 불러와서 씀\n",
        "1. numpy\n",
        "2. matplotlib\n"
      ],
      "metadata": {
        "id": "eC5Ks1v2zCTJ"
      }
    },
    {
      "cell_type": "code",
      "source": [
        "import numpy as np\n",
        "n=np.random,radn(100)"
      ],
      "metadata": {
        "id": "ZVkn5CE23z2l"
      },
      "execution_count": null,
      "outputs": []
    },
    {
      "cell_type": "code",
      "source": [
        "import matplotlib\n",
        "matplotlib.pyplot.hist(n)"
      ],
      "metadata": {
        "id": "eO2vdraJ4A4d"
      },
      "execution_count": null,
      "outputs": []
    },
    {
      "cell_type": "code",
      "source": [
        "from matplotlib import pyplot\n",
        "pyplot.hist(n)"
      ],
      "metadata": {
        "id": "FlS-kXFd4Neg"
      },
      "execution_count": null,
      "outputs": []
    },
    {
      "cell_type": "code",
      "source": [
        "x=np.array([1,2,3])\n",
        "print(x)\n",
        "print(x.shape)"
      ],
      "metadata": {
        "id": "Ma8FUbsW48aG"
      },
      "execution_count": null,
      "outputs": []
    },
    {
      "cell_type": "code",
      "source": [
        "x=np.arrange(0,10,2)\n",
        "print(x)\n",
        "print(x.shape)"
      ],
      "metadata": {
        "id": "tNdd6D375UOT"
      },
      "execution_count": null,
      "outputs": []
    },
    {
      "cell_type": "code",
      "source": [
        "x=np.linespace(0,10,6)\n",
        "print(x)\n",
        "print(x.shpae)"
      ],
      "metadata": {
        "id": "_-DuyQGL5vU6"
      },
      "execution_count": null,
      "outputs": []
    },
    {
      "cell_type": "code",
      "source": [
        "x=np.array([[1,2,3],[4,5,6]],[[7,8,9],[10,11,12]])\n",
        "print(x)\n",
        "print(x.shape)"
      ],
      "metadata": {
        "id": "xcBBEIyW6MCv"
      },
      "execution_count": null,
      "outputs": []
    },
    {
      "cell_type": "code",
      "source": [
        "np.random.normal(0,1, [2,3,4])"
      ],
      "metadata": {
        "id": "QBg8PgDNMog0"
      },
      "execution_count": null,
      "outputs": []
    },
    {
      "cell_type": "code",
      "source": [
        "import matpolib.pyplot as plt"
      ],
      "metadata": {
        "id": "9ntI0d3YM2Ak"
      },
      "execution_count": null,
      "outputs": []
    },
    {
      "cell_type": "code",
      "source": [
        "x=np.random.normal(0,1,100)\n",
        "print(x)\n",
        "plt.hist(x, bins=10)"
      ],
      "metadata": {
        "id": "9GKKszrTM7eX"
      },
      "execution_count": null,
      "outputs": []
    },
    {
      "cell_type": "code",
      "source": [
        "plt.figure()\n",
        "\n",
        "thetal=np.linspace(0,2*np.pi,100)\n",
        "s1=np.sin(thetal)\n",
        "theta2=np.linspace(0,2*np.pi,100 )+np.pi/2\n",
        "s2=np.sin(theta2)\n",
        "\n",
        "plt.subplot(2,1,1)\n",
        "ply.plot(thetal,s1,'.')\n",
        "ply.subplot(2,1,2)\n",
        "plt.plot(theta2, s2, '.')"
      ],
      "metadata": {
        "id": "l5e9UNHLNWO7"
      },
      "execution_count": null,
      "outputs": []
    },
    {
      "cell_type": "code",
      "source": [
        "np.corrcoef(s1,s2)"
      ],
      "metadata": {
        "id": "Y9Ehk1xVOVwx"
      },
      "execution_count": null,
      "outputs": []
    }
  ]
}